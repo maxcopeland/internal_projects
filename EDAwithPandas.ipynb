{
 "cells": [
  {
   "cell_type": "markdown",
   "metadata": {},
   "source": [
    "# Pandas for R&D EDA"
   ]
  },
  {
   "cell_type": "markdown",
   "metadata": {},
   "source": [
    "Within the *Python* universe, *pandas* is a critical member of the data science stack for both data prep (parsing, cleaning, munging, etc.) and exploratory analysis, making it an ideal tool for inline metrology data, spectroscopy data, defect adder analysis, and even lab tool timeseries data. With capability for interactive exploration via the *Jupyter* ecosystem and also scriptability, the engineer has the freedom for freeform analysis, as well as the reusability of scripts eliminating repetition and user input errors (...cough, Excel, cough, JMP, cough...)"
   ]
  },
  {
   "cell_type": "markdown",
   "metadata": {},
   "source": [
    "## Data Structures\n"
   ]
  },
  {
   "cell_type": "markdown",
   "metadata": {},
   "source": [
    "#### The DataFrame\n",
    "Assuming you're familiar with the basic *Python* data structures, the boon of the library lies in the `DataFrame` object for two reasons:\n",
    "1. Ease of use\n",
    "    * The `DataFrame` is analogous to an Excel spreadsheet (\\*shudder\\*), wherein the data is expressed as tabular in a row/column format, making the transition for more old-school data analysis to *Pandas* relatively painless-- even for researchers with little programming experience.\n",
    "    * Inputs galore. The `DataFrame` can be instantiated with lots of different input types: lists and dicts (or combinations thereof), numpy ndarrays, other `DataFrame`s, can be read from .txt, .csv, .tsv, and even from SQL queries\n",
    "    * *Pandas* is built on *Numpy*, which allows for really convenient interoperability, as well as largely parallel syntax\n",
    "\n",
    "2. Speed!\n",
    "    * Being that *Pandas* is built on *Numpy*, so the tasks run on C optimized computations."
   ]
  },
  {
   "cell_type": "markdown",
   "metadata": {},
   "source": [
    "#### The Series\n",
    "While the `DataFrame` is presumably most popular *Pandas* object, the `Series` is probably a close second with similar functionality but for 1D data, so its a good place to start the demo."
   ]
  },
  {
   "cell_type": "code",
   "execution_count": 1,
   "metadata": {},
   "outputs": [],
   "source": [
    "import numpy as np\n",
    "import pandas as pd  # \"pd\" is the conventional handle used for the import\n",
    "\n",
    "# Assume you have a dictionary containing adder data with \n",
    "# the WaferID as the key and the adder count as the value.\n",
    "samples = 26\n",
    "adders = {'C2W{}'.format(slot):adders for slot, adders in \\\n",
    "          zip(np.arange(1, samples), np.random.randint(100, size=samples))}"
   ]
  },
  {
   "cell_type": "markdown",
   "metadata": {},
   "source": [
    "The dictionary doesn't give us much in the ways of data analysis, but passing the dictionary to the `Series` constructor opens up a lot of doors."
   ]
  },
  {
   "cell_type": "code",
   "execution_count": 2,
   "metadata": {},
   "outputs": [
    {
     "data": {
      "text/plain": [
       "C2W1    55\n",
       "C2W2    54\n",
       "C2W3    63\n",
       "C2W4    40\n",
       "C2W5    63\n",
       "dtype: int64"
      ]
     },
     "execution_count": 2,
     "metadata": {},
     "output_type": "execute_result"
    }
   ],
   "source": [
    "adderSeries = pd.Series(adders)\n",
    "# .head() retrives n first rows (default 5)\n",
    "adderSeries.head()"
   ]
  },
  {
   "cell_type": "code",
   "execution_count": 3,
   "metadata": {},
   "outputs": [
    {
     "data": {
      "text/plain": [
       "count    25.000000\n",
       "mean     49.080000\n",
       "std      31.832792\n",
       "min       0.000000\n",
       "25%      21.000000\n",
       "50%      55.000000\n",
       "75%      69.000000\n",
       "max      97.000000\n",
       "dtype: float64"
      ]
     },
     "execution_count": 3,
     "metadata": {},
     "output_type": "execute_result"
    }
   ],
   "source": [
    "# Descriptive statistics can be accessed through the .describe() method\n",
    "adderSeries.describe()"
   ]
  },
  {
   "cell_type": "markdown",
   "metadata": {},
   "source": [
    "The `Series` object comes with useful Pandas-specific functions like `.describe()`, but also comes with the *Numpy* ndarray methods we know and love, so there's no need to write your own functions for basic-to-intermediate statistics "
   ]
  },
  {
   "cell_type": "code",
   "execution_count": 4,
   "metadata": {},
   "outputs": [
    {
     "name": "stdout",
     "output_type": "stream",
     "text": [
      "Adder variance: 1013.3266666666669\n",
      "Adder range: 97\n"
     ]
    }
   ],
   "source": [
    "print(f\"Adder variance: {adderSeries.var()}\")\n",
    "print(f\"Adder range: {adderSeries.ptp()}\")"
   ]
  },
  {
   "cell_type": "markdown",
   "metadata": {},
   "source": [
    "The `Series` bears a lot of similarity to the 1D numpy array, with the structure of more tabular-style data, which leads us to the *index*."
   ]
  },
  {
   "cell_type": "markdown",
   "metadata": {},
   "source": [
    "### The Index "
   ]
  },
  {
   "cell_type": "markdown",
   "metadata": {},
   "source": [
    "An important point about both the `Series` and the `DataFrame` is the presence of the **index**. In the above example of passing a `dict` to the `Series`, the key serves as the index for the corresponding value."
   ]
  },
  {
   "cell_type": "code",
   "execution_count": 5,
   "metadata": {},
   "outputs": [
    {
     "data": {
      "text/plain": [
       "Index(['C2W1', 'C2W2', 'C2W3', 'C2W4', 'C2W5', 'C2W6', 'C2W7', 'C2W8', 'C2W9',\n",
       "       'C2W10', 'C2W11', 'C2W12', 'C2W13', 'C2W14', 'C2W15', 'C2W16', 'C2W17',\n",
       "       'C2W18', 'C2W19', 'C2W20', 'C2W21', 'C2W22', 'C2W23', 'C2W24', 'C2W25'],\n",
       "      dtype='object')"
      ]
     },
     "execution_count": 5,
     "metadata": {},
     "output_type": "execute_result"
    }
   ],
   "source": [
    "adderSeries.index"
   ]
  },
  {
   "cell_type": "code",
   "execution_count": 6,
   "metadata": {},
   "outputs": [
    {
     "data": {
      "text/plain": [
       "array([55, 54, 63, 40, 63, 37,  1, 97, 94, 72,  8,  0, 66, 54,  0, 93, 71,\n",
       "       44,  7, 68, 21,  3, 91, 69, 56], dtype=int64)"
      ]
     },
     "execution_count": 6,
     "metadata": {},
     "output_type": "execute_result"
    }
   ],
   "source": [
    "adderSeries.values"
   ]
  },
  {
   "cell_type": "markdown",
   "metadata": {},
   "source": [
    "Why is this imporant? For one, user indexability. Being able to manipulate data through indexing is one of *Pandas* greatest strengths, allowing the user more granular data extraction. Indexing is supported through the following:\n",
    "* `.loc`, which is primarily a label based indexer\n",
    "* `.iloc`, which is an integer based indexer \n",
    "* good ole' `[]`, which accesses column names"
   ]
  },
  {
   "cell_type": "code",
   "execution_count": 7,
   "metadata": {},
   "outputs": [
    {
     "name": "stdout",
     "output_type": "stream",
     "text": [
      "Mean adders in last five wafers: 48.0\n",
      "The slot with the highest adder count is ['C2W8' 'C2W9' 'C2W16']\n"
     ]
    }
   ],
   "source": [
    "# Perhaps the last five wafers are the only datapoints of interest\n",
    "highAdders = adderSeries.iloc[-5:]\n",
    "print(f\"Mean adders in last five wafers: {highAdders.mean()}\")\n",
    "\n",
    "# Or perhads you are interested in the WaferID's of the three highest \n",
    "# adder counts, but not necessarily interested in their values\n",
    "topThreeAdders = adderSeries.sort_values(ascending=False)[:3].index.values\n",
    "print(f\"The slot with the highest adder count is {topThreeAdders}\")"
   ]
  },
  {
   "cell_type": "markdown",
   "metadata": {},
   "source": [
    "### DataFrame and EDA"
   ]
  },
  {
   "cell_type": "code",
   "execution_count": 83,
   "metadata": {},
   "outputs": [],
   "source": [
    "# Say you've run a DOE with four conditions, and want to do some prelim EDA\n",
    "slots = ['C1W{}'.format(x) for x in range(1, 26)]\n",
    "tests = ['lot_{}'.format(x) for x in range(1, 5)]\n",
    "\n",
    "mus = [500, 300, 250, 200]\n",
    "sigmas = [15, 50, 50, 40]\n",
    "doe = np.random.normal(loc=mus, scale=sigmas, size=(len(slots), len(mus)))\n",
    "doe[:, 0] = doe[:, 0] * np.linspace(1, 2, len(doe))\n",
    "doe[:, 1] = doe[:, 1] * np.linspace(1, 1.5, len(doe))\n",
    "\n",
    "# Numpy ndarray passed to the constructor, and optional index/column data\n",
    "adder_df = pd.DataFrame(doe, index=slots, columns=tests)"
   ]
  },
  {
   "cell_type": "markdown",
   "metadata": {},
   "source": [
    "Here, you'll see the columns representing individual data points, or wafers, and the columns representing DOE splits."
   ]
  },
  {
   "cell_type": "code",
   "execution_count": 84,
   "metadata": {},
   "outputs": [
    {
     "data": {
      "text/html": [
       "<div>\n",
       "<style scoped>\n",
       "    .dataframe tbody tr th:only-of-type {\n",
       "        vertical-align: middle;\n",
       "    }\n",
       "\n",
       "    .dataframe tbody tr th {\n",
       "        vertical-align: top;\n",
       "    }\n",
       "\n",
       "    .dataframe thead th {\n",
       "        text-align: right;\n",
       "    }\n",
       "</style>\n",
       "<table border=\"1\" class=\"dataframe\">\n",
       "  <thead>\n",
       "    <tr style=\"text-align: right;\">\n",
       "      <th></th>\n",
       "      <th>lot_1</th>\n",
       "      <th>lot_2</th>\n",
       "      <th>lot_3</th>\n",
       "      <th>lot_4</th>\n",
       "    </tr>\n",
       "  </thead>\n",
       "  <tbody>\n",
       "    <tr>\n",
       "      <th>C1W1</th>\n",
       "      <td>500.203129</td>\n",
       "      <td>200.116724</td>\n",
       "      <td>238.672172</td>\n",
       "      <td>224.436746</td>\n",
       "    </tr>\n",
       "    <tr>\n",
       "      <th>C1W2</th>\n",
       "      <td>511.209122</td>\n",
       "      <td>300.067363</td>\n",
       "      <td>323.478956</td>\n",
       "      <td>207.488216</td>\n",
       "    </tr>\n",
       "    <tr>\n",
       "      <th>C1W3</th>\n",
       "      <td>506.363557</td>\n",
       "      <td>282.715253</td>\n",
       "      <td>155.216931</td>\n",
       "      <td>181.813263</td>\n",
       "    </tr>\n",
       "    <tr>\n",
       "      <th>C1W4</th>\n",
       "      <td>549.536034</td>\n",
       "      <td>257.586134</td>\n",
       "      <td>280.671699</td>\n",
       "      <td>172.373247</td>\n",
       "    </tr>\n",
       "    <tr>\n",
       "      <th>C1W5</th>\n",
       "      <td>631.109633</td>\n",
       "      <td>287.364356</td>\n",
       "      <td>260.046801</td>\n",
       "      <td>210.589070</td>\n",
       "    </tr>\n",
       "  </tbody>\n",
       "</table>\n",
       "</div>"
      ],
      "text/plain": [
       "           lot_1       lot_2       lot_3       lot_4\n",
       "C1W1  500.203129  200.116724  238.672172  224.436746\n",
       "C1W2  511.209122  300.067363  323.478956  207.488216\n",
       "C1W3  506.363557  282.715253  155.216931  181.813263\n",
       "C1W4  549.536034  257.586134  280.671699  172.373247\n",
       "C1W5  631.109633  287.364356  260.046801  210.589070"
      ]
     },
     "execution_count": 84,
     "metadata": {},
     "output_type": "execute_result"
    }
   ],
   "source": [
    "adder_df.head()"
   ]
  },
  {
   "cell_type": "markdown",
   "metadata": {},
   "source": [
    "As we saw before, this is a good step for general descriptive statistics."
   ]
  },
  {
   "cell_type": "code",
   "execution_count": 55,
   "metadata": {},
   "outputs": [
    {
     "data": {
      "text/html": [
       "<div>\n",
       "<style scoped>\n",
       "    .dataframe tbody tr th:only-of-type {\n",
       "        vertical-align: middle;\n",
       "    }\n",
       "\n",
       "    .dataframe tbody tr th {\n",
       "        vertical-align: top;\n",
       "    }\n",
       "\n",
       "    .dataframe thead th {\n",
       "        text-align: right;\n",
       "    }\n",
       "</style>\n",
       "<table border=\"1\" class=\"dataframe\">\n",
       "  <thead>\n",
       "    <tr style=\"text-align: right;\">\n",
       "      <th></th>\n",
       "      <th>1</th>\n",
       "      <th>2</th>\n",
       "      <th>3</th>\n",
       "      <th>4</th>\n",
       "    </tr>\n",
       "  </thead>\n",
       "  <tbody>\n",
       "    <tr>\n",
       "      <th>count</th>\n",
       "      <td>25.000000</td>\n",
       "      <td>25.000000</td>\n",
       "      <td>25.000000</td>\n",
       "      <td>25.000000</td>\n",
       "    </tr>\n",
       "    <tr>\n",
       "      <th>mean</th>\n",
       "      <td>760.420611</td>\n",
       "      <td>360.511135</td>\n",
       "      <td>257.268909</td>\n",
       "      <td>203.905100</td>\n",
       "    </tr>\n",
       "    <tr>\n",
       "      <th>std</th>\n",
       "      <td>163.611210</td>\n",
       "      <td>78.669095</td>\n",
       "      <td>40.820412</td>\n",
       "      <td>39.908966</td>\n",
       "    </tr>\n",
       "    <tr>\n",
       "      <th>min</th>\n",
       "      <td>499.037764</td>\n",
       "      <td>231.195855</td>\n",
       "      <td>178.112744</td>\n",
       "      <td>149.250433</td>\n",
       "    </tr>\n",
       "    <tr>\n",
       "      <th>25%</th>\n",
       "      <td>620.810222</td>\n",
       "      <td>307.731385</td>\n",
       "      <td>226.094237</td>\n",
       "      <td>178.120291</td>\n",
       "    </tr>\n",
       "    <tr>\n",
       "      <th>50%</th>\n",
       "      <td>735.026865</td>\n",
       "      <td>355.974589</td>\n",
       "      <td>265.026037</td>\n",
       "      <td>200.688958</td>\n",
       "    </tr>\n",
       "    <tr>\n",
       "      <th>75%</th>\n",
       "      <td>896.135338</td>\n",
       "      <td>421.576566</td>\n",
       "      <td>286.228560</td>\n",
       "      <td>223.418470</td>\n",
       "    </tr>\n",
       "    <tr>\n",
       "      <th>max</th>\n",
       "      <td>1018.987013</td>\n",
       "      <td>490.328804</td>\n",
       "      <td>328.064934</td>\n",
       "      <td>322.193132</td>\n",
       "    </tr>\n",
       "  </tbody>\n",
       "</table>\n",
       "</div>"
      ],
      "text/plain": [
       "                 1           2           3           4\n",
       "count    25.000000   25.000000   25.000000   25.000000\n",
       "mean    760.420611  360.511135  257.268909  203.905100\n",
       "std     163.611210   78.669095   40.820412   39.908966\n",
       "min     499.037764  231.195855  178.112744  149.250433\n",
       "25%     620.810222  307.731385  226.094237  178.120291\n",
       "50%     735.026865  355.974589  265.026037  200.688958\n",
       "75%     896.135338  421.576566  286.228560  223.418470\n",
       "max    1018.987013  490.328804  328.064934  322.193132"
      ]
     },
     "execution_count": 55,
     "metadata": {},
     "output_type": "execute_result"
    }
   ],
   "source": [
    "adder_df.describe()"
   ]
  },
  {
   "cell_type": "markdown",
   "metadata": {},
   "source": [
    "From here, you can perform aggregate analysis on the full dataset, or index into a test of interest."
   ]
  },
  {
   "cell_type": "code",
   "execution_count": 56,
   "metadata": {},
   "outputs": [],
   "source": [
    "# Say you're interested in the second test of the DOE\n",
    "splitTwo = adder_df[2]"
   ]
  },
  {
   "cell_type": "code",
   "execution_count": 57,
   "metadata": {},
   "outputs": [
    {
     "data": {
      "text/plain": [
       "count     25.000000\n",
       "mean     360.511135\n",
       "std       78.669095\n",
       "min      231.195855\n",
       "25%      307.731385\n",
       "50%      355.974589\n",
       "75%      421.576566\n",
       "max      490.328804\n",
       "Name: 2, dtype: float64"
      ]
     },
     "execution_count": 57,
     "metadata": {},
     "output_type": "execute_result"
    }
   ],
   "source": [
    "splitTwo.describe()"
   ]
  },
  {
   "cell_type": "markdown",
   "metadata": {},
   "source": [
    "### Visualization\n",
    "Descriptive statistics via `.describe()`, `.info()`, `.unique()`, etc. are good preliminary windows into your data, but real EDA requires effective charting. Enter matplotlib, into which *Pandas* offers a wrapper around matplotlib's plotting functionality."
   ]
  },
  {
   "cell_type": "code",
   "execution_count": 58,
   "metadata": {},
   "outputs": [],
   "source": [
    "import matplotlib.pyplot as plt\n",
    "%matplotlib inline"
   ]
  },
  {
   "cell_type": "markdown",
   "metadata": {},
   "source": [
    "Continuing with the `adder_df`, taking a look at the distributions can let us know which samples to start testing statistical inference."
   ]
  },
  {
   "cell_type": "code",
   "execution_count": 59,
   "metadata": {},
   "outputs": [
    {
     "data": {
      "image/png": "[encoded data removed]",
      "text/plain": [
       "<Figure size 864x288 with 2 Axes>"
      ]
     },
     "metadata": {
      "needs_background": "light"
     },
     "output_type": "display_data"
    }
   ],
   "source": [
    "fig, axes = plt.subplots(1, 2, figsize=(12, 4))\n",
    "\n",
    "# Plotting functions can be called directly to the DataFrame instance\n",
    "adder_df.boxplot(ax=axes[0])\n",
    "axes[0].set_xlabel('DOE Split')\n",
    "axes[0].set_ylabel('Adders')\n",
    "\n",
    "adder_df.plot.hist(ax=axes[1], bins=13, alpha=0.5)\n",
    "axes[1].set_xlabel('Adders')\n",
    "\n",
    "# TIP: adding a semi-colon to your last plotting function\n",
    "# within the cell can serve to replace the plt.show() function\n",
    "plt.suptitle('DOE Adder Distribution', size=20, weight='bold');"
   ]
  },
  {
   "cell_type": "markdown",
   "metadata": {},
   "source": [
    "For our purposes, the example above may seem too trivial of a dataset. But therein lies the power of *Pandas*... where in more conventional software tools effort scales with the size of the data, *Pandas* effort is O(const) ;) Let's try an example of a more robust dataset more in line with our work.\n",
    "\n",
    "Say you have a hunch that HF flow to the brush box may be contributing to the difference in adder counts."
   ]
  },
  {
   "cell_type": "code",
   "execution_count": 81,
   "metadata": {},
   "outputs": [],
   "source": [
    "np.random.seed(1234)\n",
    "samples = 100000 #s\n",
    "time_series = pd.date_range('06/06/17', periods=samples, freq='s')\n",
    "\n",
    "hf_flow = pd.DataFrame(np.random.randn(samples, 4)/50, \\\n",
    "                           index=time_series, columns=[1, 2, 3, 4]).cumsum()+ 200\n",
    "hf_flow.columns = ['flow_{}'.format(x) for x in range(1, len(hf_flow.columns) + 1)]"
   ]
  },
  {
   "cell_type": "code",
   "execution_count": 82,
   "metadata": {},
   "outputs": [
    {
     "data": {
      "text/html": [
       "<div>\n",
       "<style scoped>\n",
       "    .dataframe tbody tr th:only-of-type {\n",
       "        vertical-align: middle;\n",
       "    }\n",
       "\n",
       "    .dataframe tbody tr th {\n",
       "        vertical-align: top;\n",
       "    }\n",
       "\n",
       "    .dataframe thead th {\n",
       "        text-align: right;\n",
       "    }\n",
       "</style>\n",
       "<table border=\"1\" class=\"dataframe\">\n",
       "  <thead>\n",
       "    <tr style=\"text-align: right;\">\n",
       "      <th></th>\n",
       "      <th>flow_1</th>\n",
       "      <th>flow_2</th>\n",
       "      <th>flow_3</th>\n",
       "      <th>flow_4</th>\n",
       "    </tr>\n",
       "  </thead>\n",
       "  <tbody>\n",
       "    <tr>\n",
       "      <th>count</th>\n",
       "      <td>100000.000000</td>\n",
       "      <td>100000.000000</td>\n",
       "      <td>100000.000000</td>\n",
       "      <td>100000.000000</td>\n",
       "    </tr>\n",
       "    <tr>\n",
       "      <th>mean</th>\n",
       "      <td>192.382032</td>\n",
       "      <td>198.141525</td>\n",
       "      <td>202.065801</td>\n",
       "      <td>202.265056</td>\n",
       "    </tr>\n",
       "    <tr>\n",
       "      <th>std</th>\n",
       "      <td>4.909185</td>\n",
       "      <td>2.862942</td>\n",
       "      <td>1.710664</td>\n",
       "      <td>0.851090</td>\n",
       "    </tr>\n",
       "    <tr>\n",
       "      <th>min</th>\n",
       "      <td>185.485386</td>\n",
       "      <td>192.660238</td>\n",
       "      <td>198.435387</td>\n",
       "      <td>199.799059</td>\n",
       "    </tr>\n",
       "    <tr>\n",
       "      <th>25%</th>\n",
       "      <td>188.002959</td>\n",
       "      <td>194.859118</td>\n",
       "      <td>200.697098</td>\n",
       "      <td>201.777123</td>\n",
       "    </tr>\n",
       "    <tr>\n",
       "      <th>50%</th>\n",
       "      <td>190.963313</td>\n",
       "      <td>199.465734</td>\n",
       "      <td>201.628435</td>\n",
       "      <td>202.373820</td>\n",
       "    </tr>\n",
       "    <tr>\n",
       "      <th>75%</th>\n",
       "      <td>196.610011</td>\n",
       "      <td>200.444540</td>\n",
       "      <td>203.533681</td>\n",
       "      <td>202.836706</td>\n",
       "    </tr>\n",
       "    <tr>\n",
       "      <th>max</th>\n",
       "      <td>201.542497</td>\n",
       "      <td>202.357285</td>\n",
       "      <td>206.652742</td>\n",
       "      <td>204.268747</td>\n",
       "    </tr>\n",
       "  </tbody>\n",
       "</table>\n",
       "</div>"
      ],
      "text/plain": [
       "              flow_1         flow_2         flow_3         flow_4\n",
       "count  100000.000000  100000.000000  100000.000000  100000.000000\n",
       "mean      192.382032     198.141525     202.065801     202.265056\n",
       "std         4.909185       2.862942       1.710664       0.851090\n",
       "min       185.485386     192.660238     198.435387     199.799059\n",
       "25%       188.002959     194.859118     200.697098     201.777123\n",
       "50%       190.963313     199.465734     201.628435     202.373820\n",
       "75%       196.610011     200.444540     203.533681     202.836706\n",
       "max       201.542497     202.357285     206.652742     204.268747"
      ]
     },
     "execution_count": 82,
     "metadata": {},
     "output_type": "execute_result"
    }
   ],
   "source": [
    "hf_flow.describe()"
   ]
  },
  {
   "cell_type": "code",
   "execution_count": 17,
   "metadata": {},
   "outputs": [
    {
     "data": {
      "text/plain": [
       "<matplotlib.axes._subplots.AxesSubplot at 0x23fa8f5e518>"
      ]
     },
     "execution_count": 17,
     "metadata": {},
     "output_type": "execute_result"
    },
    {
     "data": {
      "image/png": "[encoded data removed]",
      "text/plain": [
       "<Figure size 432x288 with 1 Axes>"
      ]
     },
     "metadata": {
      "needs_background": "light"
     },
     "output_type": "display_data"
    }
   ],
   "source": [
    "hf_flow.boxplot()"
   ]
  },
  {
   "cell_type": "markdown",
   "metadata": {},
   "source": [
    "There definitely seems to be a trend in distributions, but with timeseries data, standard line plots tend to be more telling."
   ]
  },
  {
   "cell_type": "code",
   "execution_count": 18,
   "metadata": {},
   "outputs": [
    {
     "data": {
      "image/png": "[encoded data removed]",
      "text/plain": [
       "<Figure size 720x432 with 1 Axes>"
      ]
     },
     "metadata": {
      "needs_background": "light"
     },
     "output_type": "display_data"
    }
   ],
   "source": [
    "hf_flow.plot(figsize=(10, 6))\n",
    "plt.title('HF Flow (ml/min)', size=20);"
   ]
  },
  {
   "cell_type": "markdown",
   "metadata": {},
   "source": [
    "Ah, now we're getting somewhere. Split one shows a decay in flow of HF, which could definitely be root cause for high defect levels.\n",
    "\n",
    "Say we also scrape CFM run time data to get timestamps of each wafer's run."
   ]
  },
  {
   "cell_type": "code",
   "execution_count": 50,
   "metadata": {},
   "outputs": [],
   "source": [
    "timestamps = time_series[::int(len(time_series)/25)]"
   ]
  },
  {
   "cell_type": "markdown",
   "metadata": {},
   "source": [
    "## Split-Apply-Combine \n",
    "We have three structures that may have give insight into our process, specifically our defectivity being tied to HF flow. There exists convenient functionality in pandas' `groupby` objects to tell a better store out of bulky datasets. Performing groupby operations is not unlike making SQL queries on separate tables within a database. But instead of a database connection, you have these \"tables\" (dataframes) right in your namespace.\n",
    "\n",
    "One approach to aligning time stamps between our HF and our process times would be to group the HF data by the same time interval as the process times, which can be done with `TimeGrouper`."
   ]
  },
  {
   "cell_type": "code",
   "execution_count": 90,
   "metadata": {},
   "outputs": [
    {
     "data": {
      "text/plain": [
       "array([ True,  True,  True,  True,  True,  True,  True,  True,  True,\n",
       "        True,  True,  True,  True,  True,  True,  True,  True,  True,\n",
       "        True,  True,  True,  True,  True,  True,  True])"
      ]
     },
     "execution_count": 90,
     "metadata": {},
     "output_type": "execute_result"
    }
   ],
   "source": [
    "# Generate run interval\n",
    "interval = timestamps.to_series().diff().value_counts().idxmax()\n",
    "# Create grouper by interval\n",
    "run_groups = pd.Grouper(freq=interval)\n",
    "# Create groupby object from grouper\n",
    "flow_by_interval = hf_flow.groupby(run_groups)\n",
    "# Apply function to groupby object\n",
    "mean_flow = flow_by_interval.mean()\n",
    "\n",
    "mean_flow.index == timestamps"
   ]
  },
  {
   "cell_type": "markdown",
   "metadata": {},
   "source": [
    "We've verified our groupby object reflects the timestamps of our process, thus it would be fair to assign the corresponding wafer ID's to the index of `mean_flow`. With like indices, we can use `merge` on the two datasets, like a \"join\" in SQL."
   ]
  },
  {
   "cell_type": "code",
   "execution_count": 132,
   "metadata": {},
   "outputs": [],
   "source": [
    "mean_flow.index = slots\n",
    "process_space = pd.merge(adder_df, mean_flow, left_index=True, right_index=True)\n",
    "\n",
    "flow_melt = mean_flow.melt()\n",
    "flow_melt.columns = ['condition', 'hf_flow']\n",
    "adder_melt = adder_df.melt()\n",
    "adder_melt.columns = ['lot', 'adders']"
   ]
  },
  {
   "cell_type": "code",
   "execution_count": 133,
   "metadata": {},
   "outputs": [],
   "source": [
    "flow_vs_adder = pd.concat([flow_melt, adder_melt], axis=1)"
   ]
  },
  {
   "cell_type": "code",
   "execution_count": 134,
   "metadata": {},
   "outputs": [],
   "source": [
    "flow_vs_adder.drop('condition', axis=1, inplace=True)\n",
    "flow_vs_adder.drop('lot', axis=1, inplace=True)"
   ]
  },
  {
   "cell_type": "code",
   "execution_count": 156,
   "metadata": {},
   "outputs": [
    {
     "data": {
      "image/png": "[encoded data removed]",
      "text/plain": [
       "<Figure size 648x432 with 1 Axes>"
      ]
     },
     "metadata": {
      "needs_background": "light"
     },
     "output_type": "display_data"
    }
   ],
   "source": [
    "flow_vs_adder.plot('hf_flow', 'adders', kind='scatter', figsize=(9, 6),\\\n",
    "                  s=100)\n",
    "flow_vs_adder_corr = flow_vs_adder.corr().iloc[0,1]\n",
    "plt.title('Mean HF Flow/Adder Count Corr: {:.3f}'.format(flow_vs_adder_corr),\\\n",
    "         size=16);"
   ]
  },
  {
   "cell_type": "code",
   "execution_count": 177,
   "metadata": {},
   "outputs": [],
   "source": [
    "def pearson_r(x, y):\n",
    "    \"\"\"\n",
    "    Helper function to compute pearson\n",
    "    correlation coefficient\n",
    "    \n",
    "    input\n",
    "    -----\n",
    "    x: numpy array\n",
    "    y: numpy array\n",
    "    \n",
    "    output\n",
    "    -----\n",
    "    float: pearson r\n",
    "    \n",
    "    \"\"\"\n",
    "    x_mean = np.mean(x)\n",
    "    y_mean = np.mean(y)\n",
    "    \n",
    "    s_x = np.sqrt(np.sum((x - x_mean)**2))\n",
    "    s_y = np.sqrt(np.sum((y - y_mean)**2))\n",
    "    \n",
    "    r = np.sum((x - x_mean) * (y - y_mean)) / (s_x * s_y)\n",
    "    return r"
   ]
  },
  {
   "cell_type": "code",
   "execution_count": 178,
   "metadata": {},
   "outputs": [
    {
     "data": {
      "text/plain": [
       "-0.9000162437697534"
      ]
     },
     "execution_count": 178,
     "metadata": {},
     "output_type": "execute_result"
    }
   ],
   "source": [
    "pearson_r(flow_vs_adder.iloc[:, 0], flow_vs_adder.iloc[:, 1])"
   ]
  },
  {
   "cell_type": "markdown",
   "metadata": {},
   "source": [
    "That's a very strong correlation, and will likely only need brief regression analysis and inference work to verify the finding (see \"Statistical_Inference_inPython.ipynb\" for more on statistical inference and Bayesian analysis.)\n",
    "\n",
    "There's more than one way to skin a cat, and everyone has their own style when it comes to data exploration. The main takeway is that the Pandas library is robust enough to handle your style, from simple computations to advanced analysis."
   ]
  }
 ],
 "metadata": {
  "kernelspec": {
   "display_name": "Python 3",
   "language": "python",
   "name": "python3"
  },
  "language_info": {
   "codemirror_mode": {
    "name": "ipython",
    "version": 3
   },
   "file_extension": ".py",
   "mimetype": "text/x-python",
   "name": "python",
   "nbconvert_exporter": "python",
   "pygments_lexer": "ipython3",
   "version": "3.7.0"
  }
 },
 "nbformat": 4,
 "nbformat_minor": 2
}
