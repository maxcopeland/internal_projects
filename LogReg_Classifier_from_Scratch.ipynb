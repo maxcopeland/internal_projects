{
 "cells": [
  {
   "cell_type": "markdown",
   "metadata": {},
   "source": [
    "# Logistic Regression Classifer from Scratch"
   ]
  },
  {
   "cell_type": "markdown",
   "metadata": {},
   "source": [
    "Now that we have a grasp of the theory behind logistic regression, its cost function, and parameter optimization through gradient descent (\"Logistic_Regression_Theory.ipynb\", \"Gradient_Descent_Theory.ipynb\"), we can now bundle these functions into a model. Here, we'll classify hand-written digits using the MNIST dataset, which is the \"hello world\" of classification datasets. Loading the code from the theory tutorials..."
   ]
  },
  {
   "cell_type": "code",
   "execution_count": 1,
   "metadata": {},
   "outputs": [],
   "source": [
    "import numpy as np\n",
    "\n",
    "def sigmoid(x):\n",
    "    \"\"\"\n",
    "    Helper function to compute the sigmoid of a given array\n",
    "    \n",
    "    input\n",
    "    -----\n",
    "    x: ndarray-like, output vector of linear function\n",
    "    \n",
    "    output\n",
    "    -----\n",
    "    s: ndarray-like, sigmoid of input\"\"\"\n",
    "    \n",
    "    sig = 1/(1+np.exp(-x))\n",
    "    return sig\n",
    "\n",
    "def init_wb(size, init_val=0):\n",
    "    \"\"\"\n",
    "    Function to initialize weights vector/bias term \n",
    "    \n",
    "    input\n",
    "    -----\n",
    "    size: int\n",
    "        length of weights vector\n",
    "    kind: int or float\n",
    "        value to init \n",
    "        \n",
    "    output\n",
    "    -----\n",
    "    w, b\n",
    "        \"\"\"\n",
    "    if init_val == 0:\n",
    "        w = np.zeros((size, 1))\n",
    "        b = 0\n",
    "    else:\n",
    "        w = np.ones((size, 1)) * init_val\n",
    "        b = init_val\n",
    "    return w, b\n",
    "\n",
    "def propagation(X, y, w, b):\n",
    "    \"\"\"\n",
    "    Compute resulting cost function and gradients from\n",
    "    forward propagation and backward propagation respectively\n",
    "    \n",
    "    input\n",
    "    -----\n",
    "    X: ndarray-like, training set to fit\n",
    "    y: vector-like, X's corresponding target\n",
    "    w: weight vector\n",
    "    b: bias term\n",
    "    \n",
    "    output\n",
    "    ------\n",
    "    tuple; dw, db, cost\n",
    "        dw: numeric, gradient of the weight vector\n",
    "        db: numeric, gradient of the bias vector\n",
    "        cost: vector-like, cost of weight, bias terms\n",
    "    \"\"\"\n",
    "    \n",
    "    samples = X.shape[1]\n",
    "    \n",
    "    # Forward Propagation (left to right)\n",
    "    A = sigmoid(np.dot(w.T, X) + b)\n",
    "    cost = -(1/samples) * np.sum(y * np.log(A) + (1 - y)*(np.log(1 - A)))\n",
    "    \n",
    "    # Backward Propagation (right to left)\n",
    "    dw = (1/samples) * np.dot(X, (A - y).T)\n",
    "    db = (1/samples) * np.sum(A - y)\n",
    "    return {'dw': dw, 'db': db, 'cost':np.squeeze(cost)}\n",
    "\n",
    "def grad_descent(X, y, w, b, n, eta):\n",
    "    \"\"\"\n",
    "    Function running gradient descent to optimize w and b\n",
    "    to minimize the cost function\n",
    "\n",
    "    input\n",
    "    -----\n",
    "    X: ndarray-like, training set to fit\n",
    "    y: vector-like, X's corresponding target\n",
    "    w: weight vector\n",
    "    b: bias term\n",
    "    n: number of iterations to loop\n",
    "    eta: learning rate\n",
    "    \n",
    "    output\n",
    "    ------\n",
    "    \n",
    "    \n",
    "    \"\"\"\n",
    "    costs = []\n",
    "    \n",
    "    for i in range(n):\n",
    "        \n",
    "        prop = propagation(X, y, w, b)\n",
    "        dw, db, cost = prop['dw'], prop['db'], prop['cost']\n",
    "        \n",
    "        w  = w - (eta * dw)\n",
    "        b = b - (eta * db)\n",
    "        \n",
    "        if i % 100 == 0:\n",
    "            costs.append(cost)\n",
    "    \n",
    "    return {'w':w, 'dw':dw, 'b':b, 'db':db, 'costs':costs}\n",
    "\n",
    "def prediction(X, w, b):\n",
    "    \"\"\"\n",
    "    Predict binomial classification based on trained w, b\n",
    "    \n",
    "    input\n",
    "    -----\n",
    "    w: ndarray-like\n",
    "        weights vector\n",
    "    b: int or float\n",
    "        bias term\n",
    "    X: ndarray-like\n",
    "    \n",
    "    output\n",
    "    -----\n",
    "    y_pred: np.array\n",
    "        array of predictions to corresponding X instances\n",
    "        \"\"\"\n",
    "    samples = X.shape[1]\n",
    "    y_pred = np.zeros((1, samples))\n",
    "    w = w.reshape(X.shape[0], 1)\n",
    "    A = sigmoid(np.dot(w.T, X) + b)\n",
    "    \n",
    "    for i in range(A.shape[1]):\n",
    "        # Bin probabiliites into actual predictions\n",
    "        y_prob = A[0, i]\n",
    "        if y_prob > 0.5:\n",
    "            y_pred[:, i] = 1\n",
    "        else:\n",
    "            y_pred[:, i] = 0\n",
    "            \n",
    "    return y_pred"
   ]
  },
  {
   "cell_type": "markdown",
   "metadata": {},
   "source": [
    "## Model \n",
    "Rather than build our own framework for our model, scikit-learn offers base classes and mixins for building custom models. This gives us the added benefit of harnessing the package's scoring and cross-validation features.\n",
    "\n",
    "If the below code looks foreign to you, you may want to review the OOP tutorials to explain the inheritance/polymorphism inherent to using base classes, and overwriting the score function.\n",
    "\n",
    "If sklearn is unfamiliar, it is a very popular machine learning framework maintained by a large community of ML developers. For our scope, there's a few simple features we'll be using that are consistent across most all of sklearn's ML algorithms. \n",
    "1. Each algorithm is passed hyperparameters to its constructor\n",
    "2. After instantiation, the model fits the data by passing training data to its `fit()` method\n",
    "3. The `predict()` method returns the predicted value when passed input data, given that the model has been trained\n",
    "4. The `score()` method compares predicted values against true values, and is used in sklearn's cross validation functionality. "
   ]
  },
  {
   "cell_type": "code",
   "execution_count": 2,
   "metadata": {},
   "outputs": [],
   "source": [
    "from sklearn.base import BaseEstimator, ClassifierMixin\n",
    "\n",
    "class CustomLogReg(BaseEstimator, ClassifierMixin):\n",
    "    \n",
    "    def __init__(self, init_params=0, n_iterations=100, eta=0.05):\n",
    "        self.init_params = init_params\n",
    "        self.n_iterations = n_iterations\n",
    "        self.eta = eta\n",
    "        \n",
    "    def fit(self, X, y=None):\n",
    "        self._w, self._b = init_wb(X.shape[0], init_val=self.init_params)\n",
    "        gd = grad_descent(X, y, self._w, self._b, self.n_iterations, self.eta)\n",
    "        self.w_ = gd['w']\n",
    "        self.b_ = gd['b']\n",
    "        self.dw_ = gd['dw']\n",
    "        self.db_ = gd['db']\n",
    "        self.cost_ = gd['costs']\n",
    "        \n",
    "    def predict(self, X, y=None):\n",
    "        try:\n",
    "            getattr(self, 'w_')\n",
    "            getattr(self, 'w_')\n",
    "        except:\n",
    "            raise RuntimeError('Train classifier using .fit() before running .predict()')\n",
    "            \n",
    "        return prediction(X, self.w_, self.b_)\n",
    "    \n",
    "    def score(self, X, y_true=None):\n",
    "        \n",
    "        return((self.predict(X) == y_true).sum()) / len(y_true)"
   ]
  },
  {
   "cell_type": "markdown",
   "metadata": {},
   "source": [
    "Training the model on the **right data** is equally as important as how we build the model, and this step in an ML project can be highly time consuming. From a statistical standpoint, effective sampling of data is critical to the model's future ability to generalize to unseen data. For our purposes, we'll skip this step in the workflow, and use sklearn's `datasets` class to load pre-cleaned, pre-sampled MNIST data.\n",
    "\n",
    "At this step, it is also important to set aside a fraction of the data (~20% in this case) for validating the model. We'll use the larger portion for training, and see how well the model generalizes to the unseen data. No data snooping!"
   ]
  },
  {
   "cell_type": "code",
   "execution_count": 10,
   "metadata": {},
   "outputs": [],
   "source": [
    "from sklearn.datasets import load_digits\n",
    "from sklearn.model_selection import train_test_split\n",
    "mnist = load_digits()\n",
    "\n",
    "X = mnist.data\n",
    "\n",
    "# Since LR is binomial and not multiclass,\n",
    "# will encode 5's as 1's and all others 0's\n",
    "y = np.array([1 if j==5 else 0 for j in mnist.target]).T\n",
    "\n",
    "X_train, X_test, y_train, y_test = train_test_split(X, y)"
   ]
  },
  {
   "cell_type": "code",
   "execution_count": 11,
   "metadata": {},
   "outputs": [],
   "source": [
    "# Here we instantiate the classifier\n",
    "clf = CustomLogReg(n_iterations=2000, eta=0.05)\n",
    "\n",
    "# Here we fit the model\n",
    "clf.fit(X_train.T, y_train)"
   ]
  },
  {
   "cell_type": "markdown",
   "metadata": {},
   "source": [
    "Let's look at how our gradient descent algorithm performed in terms of our cost function"
   ]
  },
  {
   "cell_type": "code",
   "execution_count": 12,
   "metadata": {},
   "outputs": [
    {
     "data": {
      "image/png": "[encoded data removed]",
      "text/plain": [
       "<Figure size 432x288 with 1 Axes>"
      ]
     },
     "metadata": {
      "needs_background": "light"
     },
     "output_type": "display_data"
    }
   ],
   "source": [
    "import matplotlib.pyplot as plt\n",
    "\n",
    "plt.figure()\n",
    "\n",
    "plt.plot(np.arange(1, len(clf.cost_) + 1), clf.cost_)\n",
    "plt.ylabel('Cost')\n",
    "plt.xlabel('n-iters * 100');"
   ]
  },
  {
   "cell_type": "markdown",
   "metadata": {},
   "source": [
    "Pretty quick convergence on the minimum! If we were to continue to iterate on building this model, we could throttle back on the descent iterations to save time.\n",
    "\n",
    "Now let's see how our model performs on predicting the training data."
   ]
  },
  {
   "cell_type": "code",
   "execution_count": 13,
   "metadata": {},
   "outputs": [
    {
     "data": {
      "text/plain": [
       "0.9992576095025983"
      ]
     },
     "execution_count": 13,
     "metadata": {},
     "output_type": "execute_result"
    }
   ],
   "source": [
    "clf.score(X_train.T, y_train)"
   ]
  },
  {
   "cell_type": "markdown",
   "metadata": {},
   "source": [
    "Near perfect score, but this alone is actually not a good measure of a machine learning algorithm. Ultimately, these models aren't valuable until they can accurately predict the target from *unseen* data. In linear models especially, overfitting can prevent generalization to new data. Let's see how the model performs on our test data."
   ]
  },
  {
   "cell_type": "code",
   "execution_count": 14,
   "metadata": {},
   "outputs": [
    {
     "data": {
      "text/plain": [
       "0.9888888888888889"
      ]
     },
     "execution_count": 14,
     "metadata": {},
     "output_type": "execute_result"
    }
   ],
   "source": [
    "clf.score(X_test.T, y_test)"
   ]
  },
  {
   "cell_type": "markdown",
   "metadata": {},
   "source": [
    "Wow! >98% accuracy! This model is good to go. But in the real world, especially in image recognition, data won't be as structured as the MNIST dataset. Say we were to get poor scores on unseen data, but high scores on training data, our model is overfitting. In that case, our next step would be to add regularization to the linear model $z$, which penalizes such overfitting.\n",
    "\n",
    "We have a model now that can predict whether a hand written digit is five. Let's bundle this into a function."
   ]
  },
  {
   "cell_type": "code",
   "execution_count": 15,
   "metadata": {},
   "outputs": [
    {
     "data": {
      "image/png": "[encoded data removed]",
      "text/plain": [
       "<Figure size 432x288 with 2 Axes>"
      ]
     },
     "metadata": {
      "needs_background": "light"
     },
     "output_type": "display_data"
    }
   ],
   "source": [
    "fig, axes = plt.subplots(1, 2)\n",
    "notfive = mnist.images[y == 0][0]\n",
    "five = mnist.images[y == 1][1]\n",
    "axes[0].matshow(notfive)\n",
    "axes[1].matshow(five);"
   ]
  },
  {
   "cell_type": "code",
   "execution_count": 32,
   "metadata": {},
   "outputs": [],
   "source": [
    "def gimme_five(img):\n",
    "    \"\"\"\n",
    "    Function to classify image of handwritten\n",
    "    digit as five or not-five\n",
    "    \"\"\"\n",
    "    flatten = img.reshape(-1, 1)\n",
    "    pred = clf.predict(flatten)\n",
    "    if pred == 1:\n",
    "        return \"It's a five!\"\n",
    "    elif pred == 0:\n",
    "        return \"Not a five\""
   ]
  },
  {
   "cell_type": "code",
   "execution_count": 33,
   "metadata": {},
   "outputs": [
    {
     "data": {
      "text/plain": [
       "\"It's a five!\""
      ]
     },
     "execution_count": 33,
     "metadata": {},
     "output_type": "execute_result"
    }
   ],
   "source": [
    "gimme_five(five)"
   ]
  },
  {
   "cell_type": "code",
   "execution_count": 34,
   "metadata": {},
   "outputs": [
    {
     "data": {
      "text/plain": [
       "'Not a five'"
      ]
     },
     "execution_count": 34,
     "metadata": {},
     "output_type": "execute_result"
    }
   ],
   "source": [
    "gimme_five(notfive)"
   ]
  },
  {
   "cell_type": "markdown",
   "metadata": {},
   "source": [
    "## Conclusion \n",
    "Now we have a fully functioning image classifier built from scratch. While this demo was done in a computer vision context, logistic regression also extends to defect analysis (pass/fail of wafers given I/O data), even in-situ endpoint capabilities."
   ]
  }
 ],
 "metadata": {
  "kernelspec": {
   "display_name": "Python 3",
   "language": "python",
   "name": "python3"
  },
  "language_info": {
   "codemirror_mode": {
    "name": "ipython",
    "version": 3
   },
   "file_extension": ".py",
   "mimetype": "text/x-python",
   "name": "python",
   "nbconvert_exporter": "python",
   "pygments_lexer": "ipython3",
   "version": "3.7.0"
  }
 },
 "nbformat": 4,
 "nbformat_minor": 2
}
