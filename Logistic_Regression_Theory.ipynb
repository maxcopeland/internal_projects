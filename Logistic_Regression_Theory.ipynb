{
 "cells": [
  {
   "cell_type": "markdown",
   "metadata": {},
   "source": [
    "# Logistic Regression Theory"
   ]
  },
  {
   "cell_type": "markdown",
   "metadata": {},
   "source": [
    "Logistic Regression has a long history in statistics for modeling binary dependent variables in pass/fail systems, and given the binomial nature of logic and memory, logistic models can be an ideal solution for within-die electrical testing, defect-threshold studie, and even image classification from scattering/transmission electron microscopy. \n",
    "\n",
    "Depite regression being at the heart of the algorithm, basic LR methodology applies a logistic function to said regressor yielding a binomial probability (0>=1 real), which typically suits LR for classification tasks rather than true regression problems.\n",
    "\n",
    "Though a relatively basic algorithm, logistic regression shares some parallels to deep learning approaches (aNN's, rNN's), which makes it a good primer for understanding Neural Networks."
   ]
  },
  {
   "cell_type": "markdown",
   "metadata": {},
   "source": [
    "## Theory "
   ]
  },
  {
   "cell_type": "markdown",
   "metadata": {},
   "source": [
    "The setup for Logistic Regression starts with building a simple Linear Regressor.\n",
    "\n",
    "* **Given $X$, $\\hat{y} = P(y=1|x)$ where $X \\space \\in \\space \\mathbb{R}^{n_x}$**\n",
    "    * This reads that our predicted value ($\\hat{y}$) is the probabiliy that $y=1$, given some parameter $x$, where $X$ is a $n_x$ dimensional vector\n",
    "* **Regressor: $\\hat{y} = w^Tx + b \\space $ with parameters $w \\space \\in \\space \\mathbb{R}^{n_x}, \\space b \\space \\in \\space \\mathbb{R}$**\n",
    "\n",
    "Here, we've set up a simple linear regressor. But obviously, this alone wont output a probability, as there exists $w^Tx + b > 1$ and $w^Tx + b < 0$. But we could certainly apply a function to this regressor to satisfy $(0 < \\hat{y} < 1)$. Enter the *sigmoid function...*\n",
    "* **Sigmoid function: $ \\large \\sigma(z) = \\frac{1}{1 + e^{-z}}$** where $z$ is the output of some linear function"
   ]
  },
  {
   "cell_type": "code",
   "execution_count": 22,
   "metadata": {},
   "outputs": [
    {
     "data": {
      "text/plain": [
       "Text(0.5,0,'Input')"
      ]
     },
     "execution_count": 22,
     "metadata": {},
     "output_type": "execute_result"
    },
    {
     "data": {
      "image/png": "[encoded data removed]",
      "text/plain": [
       "<Figure size 648x288 with 2 Axes>"
      ]
     },
     "metadata": {
      "needs_background": "light"
     },
     "output_type": "display_data"
    }
   ],
   "source": [
    "import numpy as np\n",
    "import matplotlib.pyplot as plt\n",
    "%matplotlib inline\n",
    "\n",
    "fig, axes = plt.subplots(1, 2, figsize=(9, 4))\n",
    "\n",
    "x = np.linspace(-100, 100)\n",
    "lin = 0.1*x\n",
    "log =  1 / (1 + np.exp(-lin))\n",
    "\n",
    "axes[0].plot(x, lin)\n",
    "axes[0].set_title('Linear model')\n",
    "axes[0].set_ylabel('Output')\n",
    "axes[0].set_xlabel('Input')\n",
    "\n",
    "axes[1].plot(x, log)\n",
    "axes[1].set_title('Logistic model');\n",
    "axes[1].set_xlabel('Input')"
   ]
  },
  {
   "cell_type": "markdown",
   "metadata": {},
   "source": [
    "While a linear function assumes no limit (left), applying a sigmoid function to a linear model bounds the output to exist between 0 and 1 (right). With this piece of the puzzle, we can use regression to model probability of a binary system. Thus a logistic regression model can be notated as...\n",
    "\n",
    "$\\large \\hat{y}^{(i)} = \\sigma(w^Tx^{(i)} + b)\\space$  where  $\\space \\large \\sigma(z) = \\frac{1}{1 + e^{-z}}$\n",
    "\n"
   ]
  },
  {
   "cell_type": "markdown",
   "metadata": {},
   "source": [
    "## Loss Function \n",
    "This theory is enough to start modeling small datasets, but to train a functional classifier requires a well defined loss function. With a model and a loss function, reconciliation of the two becomes an optimization problem. This is the essence of *training* a model: the process of optimizing the hyperparameters of the model to (hopefully) arrive at a minimum in the loss function.\n",
    "\n",
    "There are plenty of well-known loss functions that perform well on even more robust models (rMSE, MAE, etc), but its important that the loss function reflects the model it's constricting. (It's also important to build a LF that will lend itself to a convex Cost Function, or at least one that will converge well at the minimum. More on that later). In this case, it stands to reason a logistic model would be best served by a logistic loss function.\n",
    "\n",
    "$ \\large L(\\hat{y}, y) = - (y \\space log\\hat{y} \\space + \\space (1-y)\\space log(1-\\hat{y})$\n",
    "\n",
    "As a thought exercise, if you try plugging in values ($y=0$ or $y=1$), you'll notice terms start to drop in favor of the \"true\" value...\n",
    "\n",
    "**When $y=1: L(\\hat{y}, y) = -\\space log\\hat{y} $**\n",
    "* Thus, you want you predicted value ($\\hat{y}$) to be as close to $1$ as possible\n",
    "\n",
    "**When $y=0: L(\\hat{y}, y) = -\\space log(1-\\hat{y})$**\n",
    "* Thus, you want you predicted value ($\\hat{y}$) to be as close to $0$ as possible"
   ]
  },
  {
   "cell_type": "markdown",
   "metadata": {},
   "source": [
    "## Cost Function\n",
    "What's the difference between a loss function and a cost function? While they're interrelated, the distinction is important. While a Loss Function evaluates a *single* instance of the training data, a Cost Function reflects the average performance across the *entire* training data. To put it another way, the Cost Function defines the *cost* of your parameters $w$ and $b$. Thus the cost function can be annotated...\n",
    "\n",
    "$\\large J(w, b) = \\frac{1}{m}\\sum_{i=1}^{m}L(\\hat{y}^{(i)}, y^{(i)})$\n",
    "\n",
    "Where $w$, $b$ are parameters of the regressor defined earlier. Including the Loss function for a comprehensive Cost function... \n",
    "\n",
    "$\\large J(w, b) = -\\frac{1}{m}\\sum_{i=1}^{m}[y^{(i)} \\space log\\hat{y}^{(i)} \\space + \\space (1-y^{(i)})\\space log(1-\\hat{y}^{(i)}]$"
   ]
  },
  {
   "cell_type": "markdown",
   "metadata": {},
   "source": [
    "## Code "
   ]
  },
  {
   "cell_type": "markdown",
   "metadata": {},
   "source": [
    "Implementation of a sigmoid function can be done simply as below."
   ]
  },
  {
   "cell_type": "code",
   "execution_count": null,
   "metadata": {},
   "outputs": [],
   "source": [
    "import numpy as np\n",
    "\n",
    "def sigmoid(x):\n",
    "    \"\"\"\n",
    "    Helper function to compute the sigmoid of a given array\n",
    "    \n",
    "    input\n",
    "    -----\n",
    "    x: ndarray-like, output vector of linear function\n",
    "    \n",
    "    output\n",
    "    -----\n",
    "    s: ndarray-like, sigmoid of input\"\"\"\n",
    "    \n",
    "    sig = 1/(1+np.exp(-x))\n",
    "    return sig"
   ]
  },
  {
   "cell_type": "markdown",
   "metadata": {},
   "source": [
    "We can code a helper function to initialize values for our linear params, and a function for forward propagation between the parameters $w$ and $b$ arriving at a resulting cost function."
   ]
  },
  {
   "cell_type": "code",
   "execution_count": 2,
   "metadata": {},
   "outputs": [],
   "source": [
    "def init_wb(size, init_val=0):\n",
    "    \"\"\"\n",
    "    Function to initialize weights vector/bias term \n",
    "    \n",
    "    input\n",
    "    -----\n",
    "    size: int\n",
    "        length of weights vector\n",
    "    kind: int or float\n",
    "        value to init \n",
    "        \n",
    "    output\n",
    "    -----\n",
    "    w, b\n",
    "        \"\"\"\n",
    "    if init_val == 0:\n",
    "        w = np.zeros((size, 1))\n",
    "        b = 0\n",
    "    else:\n",
    "        w = np.ones((size, 1)) * init_val\n",
    "        b = init_val\n",
    "    return w, b\n",
    "\n",
    "def propagation(X, y, w, b):\n",
    "    \"\"\"\n",
    "    Compute resulting cost function and gradients from\n",
    "    forward propagation and backward propagation respectively\n",
    "    \n",
    "    input\n",
    "    -----\n",
    "    X: ndarray-like, training set to fit\n",
    "    y: vector-like, X's corresponding target\n",
    "    w: weight vector\n",
    "    b: bias term\n",
    "    \n",
    "    output\n",
    "    ------\n",
    "    dict\n",
    "        cost: vector-like, cost of weight, bias terms\n",
    "    \"\"\"\n",
    "    \n",
    "    samples = X.shape[1]\n",
    "    \n",
    "    # Forward Propagation (left to right)\n",
    "    A = sigmoid(np.dot(w.T, X) + b)\n",
    "    cost = -(1/samples) * np.sum(y * np.log(A) + (1 - y)*(np.log(1 - A)))\n",
    "\n",
    "    return {'cost':np.squeeze(cost)}"
   ]
  },
  {
   "cell_type": "markdown",
   "metadata": {},
   "source": [
    "Now that we have defined the important pieces to the algorithm, we have an optimization problem. See \"Gradient_Descent.ipynb\" on how to optimize a LR model."
   ]
  }
 ],
 "metadata": {
  "kernelspec": {
   "display_name": "Python 3",
   "language": "python",
   "name": "python3"
  },
  "language_info": {
   "codemirror_mode": {
    "name": "ipython",
    "version": 3
   },
   "file_extension": ".py",
   "mimetype": "text/x-python",
   "name": "python",
   "nbconvert_exporter": "python",
   "pygments_lexer": "ipython3",
   "version": "3.7.0"
  }
 },
 "nbformat": 4,
 "nbformat_minor": 2
}
