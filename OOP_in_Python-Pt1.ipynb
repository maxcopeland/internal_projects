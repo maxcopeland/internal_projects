{
 "cells": [
  {
   "cell_type": "markdown",
   "metadata": {},
   "source": [
    "# Object Oriented Programming in Python\n",
    "To the research engineer, a language like Python has a lot of upside; readability, flexibility, and is arguably the quickest to get up-and-running. Ironically, this can also be a \"con\" of the language. Its ease of use can have you building scripts so quickly that users can miss the features that makes Python powerful. Among these features stands the object oriented paradigm."
   ]
  },
  {
   "cell_type": "markdown",
   "metadata": {},
   "source": [
    "## Procedural Programming\n",
    "If you're unfamiliar with the OOP concept, it might be helpful to explain what OOP is *not*: procedural programming, which is a much more common approach in research. Procedural programming is just that: a procedure. The structure of code can be read like a list of steps defined by blocks of code so that tasks are performed in a one-by-one sequence. Below would be an example of procedural programming. \n",
    "\n",
    "Say you wanted to write a shopping list script. You have a catalog of items with their corresponding prices. In a procedural scheme, you would modularize your code such that you can execute a task on the data. Here, you execute the code sequentially, using predefined functions."
   ]
  },
  {
   "cell_type": "code",
   "execution_count": 1,
   "metadata": {},
   "outputs": [
    {
     "name": "stdout",
     "output_type": "stream",
     "text": [
      "12.98\n",
      "12.49\n"
     ]
    }
   ],
   "source": [
    "catalog = {'cereal': 4.99, 'beer':7.99, 'kale':1.99, 'coffee':4.50}\n",
    "\n",
    "def sum_list(shopping_list):\n",
    "    total_bill = 0\n",
    "    for item in shopping_list:\n",
    "        total_bill += catalog[item]\n",
    "    return total_bill\n",
    "\n",
    "tuesday_list = ['cereal', 'beer']\n",
    "print(sum_list(tuesday_list))\n",
    "\n",
    "wednesday_list = ['beer', 'coffee']\n",
    "print(sum_list(wednesday_list))"
   ]
  },
  {
   "cell_type": "markdown",
   "metadata": {},
   "source": [
    "There's a time and place for the procedural approach, but you'll notice this lacks a few important features. What if I wanted to model the *interactions* between, say, a shopping list and a shopping item? What if I wanted to store more data about an item besides its price? This is where OOP shines."
   ]
  },
  {
   "cell_type": "markdown",
   "metadata": {},
   "source": [
    "## OOP\n",
    "Object oriented programming, rather than thinking of code as checking off boxes in a recipe, abstracts real-world things within the problem you're solving, and offers the engineer more creative ease to build the interaction between these \"things\", which in this paradigm, are called \"objects\".\n",
    "\n",
    "Take our previous example. Consider the objects we can model: a shopping list, a grocery item, and a catalog. Maybe even a shopping cart. Below is a simple script for creating these things as \"objects\". For now, don't worry too much about the actual syntax yet. "
   ]
  },
  {
   "cell_type": "code",
   "execution_count": 1,
   "metadata": {},
   "outputs": [],
   "source": [
    "class StoreItem(object):\n",
    "    \n",
    "    def __init__(self, name, price, aisle):\n",
    "        self.name = name\n",
    "        self.price = price\n",
    "        self.aisle = aisle\n",
    "        \n",
    "    def __add__(self, other):\n",
    "        return self.price + other.price\n",
    "\n",
    "    def __radd__(self, other):\n",
    "        return self.price + other\n",
    "\n",
    "    def __repr__(self):\n",
    "        return f\"StoreItem(name={self.name}, price={self.price}, aisle={self.aisle})\"\n",
    "\n",
    "\n",
    "class ShoppingList(object):\n",
    "    \n",
    "    def __init__(self):\n",
    "        self.__shoppinglist = []\n",
    "        \n",
    "    def __len__(self):\n",
    "        return len(self.__shoppinglist)\n",
    "    \n",
    "    def __getitem__(self, position):\n",
    "        return self.__shoppinglist[position]\n",
    "\n",
    "    def __repr__(self):\n",
    "        return f\"ShoppingList({self.__shoppinglist})\"\n",
    "    \n",
    "#     def __sum__(self):\n",
    "#         total = 0\n",
    "#         for item in self.__shoppinglist:\n",
    "#             total += item\n",
    "    \n",
    "    def add_item(self, item):\n",
    "        \"Accepts StoreItem object as argument\"\n",
    "        self.__shoppinglist.append(item)\n",
    "    \n",
    "    \n",
    "class StoreCatalog(ShoppingList):\n",
    "    \n",
    "    pass"
   ]
  },
  {
   "cell_type": "markdown",
   "metadata": {},
   "source": [
    "## Abstraction\n",
    "It might be helpful to see how the user might interact with these \"objects\" to get a feel for what's going on. Let's just look at an object, and how we can use it. Let's start with the `StoreItem` object. Say you have items from the previous example: coffee, beer, cereal, and kale. Since we're interested in making these as part of a shopping list, it would be helpful to know how much these items cost, and which aisle they're in."
   ]
  },
  {
   "cell_type": "code",
   "execution_count": 2,
   "metadata": {},
   "outputs": [],
   "source": [
    "# We'll pass the name, price, and aisle to this StoreItem(), and assign them to variables.\n",
    "coffee = StoreItem(name='coffee', price=12.99, aisle=3)\n",
    "beer = StoreItem(name='beer', price=7.99, aisle=8)\n",
    "cereal = StoreItem(name='cereal', price=4.99, aisle=4)\n",
    "kale = StoreItem(name='kale', price=3.99, aisle=1)"
   ]
  },
  {
   "cell_type": "markdown",
   "metadata": {},
   "source": [
    "Lets look at just coffee. When we print the variable to the terminal, we get the following string:"
   ]
  },
  {
   "cell_type": "code",
   "execution_count": 3,
   "metadata": {},
   "outputs": [
    {
     "data": {
      "text/plain": [
       "StoreItem(name=coffee, price=12.99, aisle=3)"
      ]
     },
     "execution_count": 3,
     "metadata": {},
     "output_type": "execute_result"
    }
   ],
   "source": [
    "coffee"
   ]
  },
  {
   "cell_type": "markdown",
   "metadata": {},
   "source": [
    "This is a helpful string! But really, its only a string. Wouldn't it be even more useful to be able to access specific features from this \"object\" and maybe do some calculations for our shopping trip? In OOP, these features are aptly called \"attributes\". As you can see, we've specified three attributes to each `StoreItem`: `name`, `price`, and `aisle`. But you dont need to scroll up to find that data. How much was coffee again?"
   ]
  },
  {
   "cell_type": "code",
   "execution_count": 4,
   "metadata": {},
   "outputs": [
    {
     "data": {
      "text/plain": [
       "(12.99, float)"
      ]
     },
     "execution_count": 4,
     "metadata": {},
     "output_type": "execute_result"
    }
   ],
   "source": [
    "coffee.price, type(coffee.price)"
   ]
  },
  {
   "cell_type": "markdown",
   "metadata": {},
   "source": [
    "We can access any attribute right from the object, using *dot notation*. Which aisle was Kale in?"
   ]
  },
  {
   "cell_type": "code",
   "execution_count": 5,
   "metadata": {},
   "outputs": [
    {
     "data": {
      "text/plain": [
       "1"
      ]
     },
     "execution_count": 5,
     "metadata": {},
     "output_type": "execute_result"
    }
   ],
   "source": [
    "kale.aisle"
   ]
  },
  {
   "cell_type": "markdown",
   "metadata": {},
   "source": [
    "## Classes and Objects "
   ]
  },
  {
   "cell_type": "markdown",
   "metadata": {},
   "source": [
    "At this point you might realize that orienting code around \"objects\" opens up a lot of possibilities. This style of programming is where Python really shines. The Python language itself is object oriented, with **everything** in Python being an object. `1`, `def`, `/`, everything.\n",
    "\n",
    "From the example, it should be starting to become clear what an \"object\" can be. But to fully understand objects, you must know what a `class` is. A `class` is frequently explained as a \"blueprint\" for objects, and its a strong analogy. Think about a blueprint for a home. Now consider a subdivision of identical spec homes, all being built from the same one blueprint. This relationship is analogous to a class/object relationship: one class (the blueprint) creating many objects (spec homes).\n",
    "\n",
    "Now lets return to our shopping example, and analyze the `StoreItem` class."
   ]
  },
  {
   "cell_type": "code",
   "execution_count": 6,
   "metadata": {},
   "outputs": [],
   "source": [
    "class StoreItem(object):\n",
    "    \n",
    "    def __init__(self, name, price, aisle):\n",
    "        self.name = name\n",
    "        self.price = price\n",
    "        self.aisle = aisle\n",
    "        \n",
    "    def __add__(self, other):\n",
    "        return self.price + other.price\n",
    "\n",
    "    def __radd__(self, other):\n",
    "        return self.price + other\n",
    "\n",
    "    def __repr__(self):\n",
    "        return f\"StoreItem(name={self.name}, price={self.price}, aisle={self.aisle})\""
   ]
  },
  {
   "cell_type": "markdown",
   "metadata": {},
   "source": [
    "Here, in the same way that `def` defines a function, `class` defines a class. In this case, it defines the class `StoreItem`. For now, ignore passing `object` as an argument. \n",
    "\n",
    "Now within this class definition, you see a familiar `def` indented inside the class. Anytime you see `def` outside of a `class`, this is a function, which we know. But when its inside a class, this is a **method**. \n",
    "\n",
    "A **method** behaves exactly as a function does, but with an important distinction. *A method is tied to the object you're creating.* So whatever method you're defining, methods will be executed through the same *dot method* you use to access the object attributes, and will often times be executing something directly on the object.\n",
    "\n",
    "So then what is this `__init__` method? There's a actually a lot to unpack there..."
   ]
  },
  {
   "cell_type": "markdown",
   "metadata": {},
   "source": [
    "## self and Dunder Methods \n",
    "Firstly, methods surrounded by double-underscores are what's called **dunder** methods (unfortunately not an homage to Dunder Mifflin). This is short for \"double under\", and is used interchangably with the term **magic method**. These methods are special, in that they refer to predefined features in the language. Think of Python as an API, and dunder methods are your interface. This functionality can be used to \"enrich\" a class. More on this later.\n",
    "\n",
    "Back to `__init__`. This magic method is also referred to as the `constructor` method. Remember when we assigned `StoreItem(name='coffee', price=12.99, aisle=3)` to the variable `coffee`? This method took these arguments, and stored them in the attributes `name`, `price`, and `aisle`, as defined by the function. And when we created this `coffee` variable, this became an **instance** of the class, thus, this process is called **instantiation**. In this context, the terms **instance** and **object** can be used interchangably. \n",
    "\n",
    "Finally, you may be wondering what `self` may be referring to. `self` refers to the instance being created, which should make a connection between us using `coffee.price` functionality and seeing `self.price = price` in the constructor.\n",
    "\n",
    "How about passing `self` as the first argument in defining methods? Recall being able to access methods through dot notation. In accessing a method this way, the method is taking the instance as the first argument to the method, even though you're not explicitly passing it to the arguments."
   ]
  },
  {
   "cell_type": "markdown",
   "metadata": {},
   "source": [
    "## Encapsulation\n",
    "Now lets look at our `ShoppingList` class for an important concept in OOP. Let's read through some of the functionality of the class. Upon instantiation, the constructor creates an empty list and assigns it to the attribute `_list`. Now go to the bottom of the class, and you see the `add_item` method, where the user can pass a `StoreItem` object and it gets added to `_list`. "
   ]
  },
  {
   "cell_type": "code",
   "execution_count": 7,
   "metadata": {},
   "outputs": [],
   "source": [
    "class ShoppingList(object):\n",
    "    \n",
    "    def __init__(self):\n",
    "        self.__shoppinglist = []\n",
    "        \n",
    "    def __len__(self):\n",
    "        return len(self.__shoppinglist)\n",
    "    \n",
    "    def __getitem__(self, position):\n",
    "        return self.__shoppinglist[position]\n",
    "\n",
    "    def __repr__(self):\n",
    "        return f\"ShoppingList({self.__shoppinglist})\"\n",
    "    \n",
    "    def add_item(self, item):\n",
    "        \"Accepts StoreItem object as argument\"\n",
    "        self.__shoppinglist.append(item)"
   ]
  },
  {
   "cell_type": "markdown",
   "metadata": {},
   "source": [
    "You might wonder why `self.__shoppinglist` is preceded by a double underscore. This leads us to *encapsulation*. Encapsulation is essentially the practice of hiding class/instance data from the user, forcing the user to interact with the data by methods defined within the class. This prevents the user mishandling or modifying said data, which could break functionality of the class, among other things.\n",
    "\n",
    "While other object oriented languages like Java and C++ safely protect your private variables, in Python there *are* ways around class/instance variables intended to be private. While a preceding single or double underscore indicate such a variable, the official stance of the Python language is \"we are all consenting adults here.\" So when interacting with an instance or class and come across a \"private\" variable, there's a reason the author demarked them as such. Beware that messing with these can break the class.\n",
    "\n",
    "We've covered the basics of OOP and its first two pillars, Abstraction and Encapsulation. Proceed to \"OOP_in_Python.ipynb\" to learn about the other two."
   ]
  }
 ],
 "metadata": {
  "kernelspec": {
   "display_name": "Python 3",
   "language": "python",
   "name": "python3"
  },
  "language_info": {
   "codemirror_mode": {
    "name": "ipython",
    "version": 3
   },
   "file_extension": ".py",
   "mimetype": "text/x-python",
   "name": "python",
   "nbconvert_exporter": "python",
   "pygments_lexer": "ipython3",
   "version": "3.7.0"
  }
 },
 "nbformat": 4,
 "nbformat_minor": 2
}
