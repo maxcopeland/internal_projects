{
 "cells": [
  {
   "cell_type": "markdown",
   "metadata": {},
   "source": [
    "# OOP in Python Part 2"
   ]
  },
  {
   "cell_type": "code",
   "execution_count": 1,
   "metadata": {},
   "outputs": [],
   "source": [
    "class StoreItem(object):\n",
    "    \n",
    "    def __init__(self, name, price, aisle):\n",
    "        self.name = name\n",
    "        self.price = price\n",
    "        self.aisle = aisle\n",
    "        \n",
    "    def __add__(self, other):\n",
    "        return self.price + other.price\n",
    "\n",
    "    def __radd__(self, other):\n",
    "        return self.price + other\n",
    "\n",
    "    def __repr__(self):\n",
    "        return f\"StoreItem(name={self.name}, price={self.price}, aisle={self.aisle})\"\n",
    "\n",
    "\n",
    "class ShoppingList(object):\n",
    "    # NOTE: Edited _shoppinglist to have *one* underscore\n",
    "    # for the purposes of polymorphism example\n",
    "    def __init__(self):\n",
    "        self._shoppinglist = []\n",
    "        \n",
    "    def __len__(self):\n",
    "        return len(self._shoppinglist)\n",
    "    \n",
    "    def __getitem__(self, position):\n",
    "        return self._shoppinglist[position]\n",
    "\n",
    "    def __repr__(self):\n",
    "        return f\"ShoppingList({self._shoppinglist})\"\n",
    "    \n",
    "    def add_item(self, item):\n",
    "        \"Accepts StoreItem object as argument\"\n",
    "        self._shoppinglist.append(item)\n",
    "    \n",
    "    \n",
    "class StoreCatalog(ShoppingList):\n",
    "    \n",
    "    pass\n",
    "\n",
    "coffee = StoreItem(name='coffee', price=12.99, aisle=3)\n",
    "beer = StoreItem(name='beer', price=7.99, aisle=8)\n",
    "cereal = StoreItem(name='cereal', price=4.99, aisle=4)\n",
    "kale = StoreItem(name='kale', price=3.99, aisle=1)\n",
    "\n",
    "sunday_list = ShoppingList()\n",
    "sunday_list.add_item(coffee)\n",
    "sunday_list.add_item(beer)\n",
    "sunday_list.add_item(cereal)\n",
    "sunday_list.add_item(kale)"
   ]
  },
  {
   "cell_type": "markdown",
   "metadata": {},
   "source": [
    "## Inheritance\n",
    "In part 1 of this tutorial, we started analyzing the first two classes of this simple shopping trip script. But lets give the third class a look. Compared to the other two, this third \"blueprint\" looks pretty bare. No constructor, and no instance variables, just `pass`. It doesn't look like this class should be able to do anything. If you look closely, you'll notice another difference in this class: `ShoppingList` is being passed to the class arguments. This brings us to inheritance, a crucial pillar of the OOP paradigm. \n",
    "\n",
    "First, lets see inheritance in action. "
   ]
  },
  {
   "cell_type": "code",
   "execution_count": 2,
   "metadata": {},
   "outputs": [
    {
     "data": {
      "text/plain": [
       "ShoppingList([StoreItem(name=coffee, price=12.99, aisle=3), StoreItem(name=beer, price=7.99, aisle=8), StoreItem(name=cereal, price=4.99, aisle=4), StoreItem(name=kale, price=3.99, aisle=1)])"
      ]
     },
     "execution_count": 2,
     "metadata": {},
     "output_type": "execute_result"
    }
   ],
   "source": [
    "safeway = StoreCatalog()\n",
    "safeway.add_item(coffee)\n",
    "safeway.add_item(beer)\n",
    "safeway.add_item(cereal)\n",
    "safeway.add_item(kale)\n",
    "safeway"
   ]
  },
  {
   "cell_type": "markdown",
   "metadata": {},
   "source": [
    "It looks as though `StoreCatalog` and `ShoppingList` have the same functionality. Lets compare their functions."
   ]
  },
  {
   "cell_type": "code",
   "execution_count": 3,
   "metadata": {},
   "outputs": [
    {
     "data": {
      "text/plain": [
       "True"
      ]
     },
     "execution_count": 3,
     "metadata": {},
     "output_type": "execute_result"
    }
   ],
   "source": [
    "dir(safeway) == dir(sunday_list)"
   ]
  },
  {
   "cell_type": "markdown",
   "metadata": {},
   "source": [
    "Yep. Identical. This is *inheritance*: the ability to *inherit* the functionality of another class. This is a highly convenient feature for the programmer in keeping code DRY (dont repeat yourself). If you find yourself using parallel features between classes, best to create an abstract base class from which your classes can inherit."
   ]
  },
  {
   "cell_type": "markdown",
   "metadata": {},
   "source": [
    "## Polymorphism \n",
    "For the last pillar of the OOP model, consider a scenario. Recall the class:object, blueprint:house analogy, and the concept of building a whole subdivision of spec homes from one blueprint. Imagine a builder wanted to build the same home as in this ubdivision **except** he wants a differently shaped front window. It wouldn't make much sense to draw an entirely new blueprint for a small difference. It *would* make sense to make a copy of the blue print, and edit the drawings of the front window. This is polymorphism.\n",
    "\n",
    "Back to our shopping trip. We saw that `StoreCatalog` inherited all of `ShoppingList`'s functionality, but when we printed our instance to the terminal, the `__repr__` string is labeled as `ShoppingList`, but for this class it would confuse the user. Polymorphism to the rescue.\n",
    "\n",
    "* *NOTE*: For the purposes of this example, I edited the `ShoppingList` attribute `__shoppinglist` to have only one underscore."
   ]
  },
  {
   "cell_type": "code",
   "execution_count": 4,
   "metadata": {},
   "outputs": [
    {
     "data": {
      "text/plain": [
       "StoreCatalog([StoreItem(name=coffee, price=12.99, aisle=3), StoreItem(name=beer, price=7.99, aisle=8), StoreItem(name=cereal, price=4.99, aisle=4), StoreItem(name=kale, price=3.99, aisle=1)])"
      ]
     },
     "execution_count": 4,
     "metadata": {},
     "output_type": "execute_result"
    }
   ],
   "source": [
    "class StoreCatalog(ShoppingList):\n",
    "    \n",
    "    def __repr__(self):\n",
    "        return f\"StoreCatalog({self._shoppinglist})\"\n",
    "\n",
    "safeway = StoreCatalog()\n",
    "safeway.add_item(coffee)\n",
    "safeway.add_item(beer)\n",
    "safeway.add_item(cereal)\n",
    "safeway.add_item(kale)\n",
    "safeway"
   ]
  },
  {
   "cell_type": "markdown",
   "metadata": {},
   "source": [
    "Here, we still maintain all of the same functionality from ShoppingList, but redefining the __repr__ function in-effect overwrote the __repr__ function defined in the inherited class. \n",
    "This is, again, highly powerful and convenient for the programmer. Being able to inherit from an existing base class, while still having the freedom to have control over the inherited functions allows for code thats elegant and concise. \n",
    "This, in fact, can even give you control over other built-in functions, as alluded to earlier. Even mathetmatical operators."
   ]
  },
  {
   "cell_type": "code",
   "execution_count": 5,
   "metadata": {},
   "outputs": [],
   "source": [
    "class StoreItem(object):\n",
    "    \n",
    "    def __init__(self, name, price, aisle):\n",
    "        self.name = name\n",
    "        self.price = price\n",
    "        self.aisle = aisle\n",
    "        \n",
    "    def __add__(self, other):\n",
    "        return self.price + other.price\n",
    "\n",
    "    def __radd__(self, other):\n",
    "        return self.price + other\n",
    "\n",
    "    def __repr__(self):\n",
    "        return f\"StoreItem(name={self.name}, price={self.price}, aisle={self.aisle})\""
   ]
  },
  {
   "cell_type": "markdown",
   "metadata": {},
   "source": [
    "\n",
    "As you look at the `StoreItem` class, you may see what is happening. Look what happens when I add two StoreItems."
   ]
  },
  {
   "cell_type": "code",
   "execution_count": 6,
   "metadata": {},
   "outputs": [
    {
     "data": {
      "text/plain": [
       "20.98"
      ]
     },
     "execution_count": 6,
     "metadata": {},
     "output_type": "execute_result"
    }
   ],
   "source": [
    "coffee + beer"
   ]
  },
  {
   "cell_type": "markdown",
   "metadata": {},
   "source": [
    "While `coffee` and `beer` aren't themselves `int`s or `float`s, using polymorphism to redefine the `__add__` and `__radd__` magic methods allow us to add beer and coffee together, without being thrown an error."
   ]
  },
  {
   "cell_type": "markdown",
   "metadata": {},
   "source": [
    "## Conclusion\n",
    "Object oriented programming is not just a different syntax, but a different mindset in how you approach problems. While often it may seem \"easier\" to write linear programs, over time this can lead to duplicate code, and difficulty organizing programs. Whether the task is data analysis or GUI development, OOP can make your work more efficient, elegant, and organized. Happy shopping."
   ]
  }
 ],
 "metadata": {
  "kernelspec": {
   "display_name": "Python 3",
   "language": "python",
   "name": "python3"
  },
  "language_info": {
   "codemirror_mode": {
    "name": "ipython",
    "version": 3
   },
   "file_extension": ".py",
   "mimetype": "text/x-python",
   "name": "python",
   "nbconvert_exporter": "python",
   "pygments_lexer": "ipython3",
   "version": "3.7.0"
  }
 },
 "nbformat": 4,
 "nbformat_minor": 2
}
